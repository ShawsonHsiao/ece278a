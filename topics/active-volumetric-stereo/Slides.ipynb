{
 "cells": [
  {
   "cell_type": "markdown",
   "id": "76b67dce",
   "metadata": {
    "slideshow": {
     "slide_type": "slide"
    }
   },
   "source": [
    "# <center>Active and Volumetric Stereo</center>\n",
    "### <center>Maxwell Jung</center>\n",
    "\n",
    "Captured Image                                      | 3D Reconstruction\n",
    ":--------------------------------------------------:|:-------------------------:\n",
    "<img src=\"img/hand_fist_pattern.jpg\" alt=\"hand_fist_pattern\" width=\"500\"/> | <img src=\"img/hand_fist_polygon.gif\" alt=\"hand_fist_polygon\" width=\"500\"/>\n",
    "\n",
    "Source: [Rapid Shape Acquisition Using Color Structured Light and Multi-pass Dynamic Programming](https://grail.cs.washington.edu/projects/moscan/)"
   ]
  },
  {
   "cell_type": "markdown",
   "id": "64c0b2b5",
   "metadata": {
    "slideshow": {
     "slide_type": "slide"
    }
   },
   "source": [
    "# Topics Covered\n",
    "\n",
    "1. Active Stereo\n",
    "    1. Point method\n",
    "    2. Line method\n",
    "    3. Pattern method\n",
    "2. Volumetric Stereo\n",
    "    1. Space Carving\n",
    "    2. Shadow Carving\n",
    "    3. Voxel Coloring\n"
   ]
  },
  {
   "cell_type": "markdown",
   "id": "dc7c97ab",
   "metadata": {
    "slideshow": {
     "slide_type": "slide"
    }
   },
   "source": [
    "# Examples\n",
    "\n",
    "Captured Image (line method)                        | 3D Reconstruction\n",
    ":--------------------------------------------------:|:-------------------------:\n",
    "<img src=\"img/digitalmichelangelo.jpg\" alt=\"digitalmichelangelo\" width=\"500\"/> | <img src=\"img/david3d.jpg\" alt=\"david3d\" width=\"500\"/>\n",
    "\n",
    "Source: [The Digital Michaelangelo project](https://accademia.stanford.edu/mich/)\n"
   ]
  },
  {
   "cell_type": "markdown",
   "id": "e9af1f04",
   "metadata": {
    "slideshow": {
     "slide_type": "slide"
    }
   },
   "source": [
    "# Examples - cont.\n",
    "\n",
    "Captured Image (pattern method)                       | 3D Reconstruction\n",
    ":--------------------------------------------------:|:-------------------------:\n",
    "<img src=\"img/speckle-a.png\" alt=\"speckle-a\" width=\"500\"/> | <img src=\"img/speckle-b.png\" alt=\"speckle-b\" width=\"500\"/>\n",
    "\n",
    "Source: [Rapid Shape Acquisition Using Color Structured Light and Multi-pass Dynamic Programming](https://grail.cs.washington.edu/projects/moscan/)"
   ]
  },
  {
   "cell_type": "markdown",
   "id": "b0b6e9c2",
   "metadata": {
    "slideshow": {
     "slide_type": "slide"
    }
   },
   "source": [
    "# Examples - cont.\n",
    "\n",
    "Captured Images (Space Carving)                       | 3D Reconstruction\n",
    ":--------------------------------------------------:|:-------------------------:\n",
    "<img src=\"img/space-carving-hands.jpeg\" alt=\"space-carving-hands\" width=\"500\"/> | <img src=\"img/space-carving-hands-result.png\" alt=\"space-carving-hands-result\" width=\"500\"/>\n",
    "\n",
    "Source: [A Theory of Shape by Space Carving](https://www.cs.toronto.edu/~kyros/pubs/00.ijcv.carve.pdf)"
   ]
  },
  {
   "cell_type": "markdown",
   "id": "561c48d8",
   "metadata": {
    "slideshow": {
     "slide_type": "slide"
    }
   },
   "source": [
    "# Traditional Stereo - Triangulation\n",
    "\n",
    "Given\n",
    "  - Pixels $p$ and $p'$ correspond to the same 3D point $P$\n",
    "  - Camera intrisic and extrinsic properties are known\n",
    "\n",
    "Outcome\n",
    "  - location of point $P$ = intersection of two rays\n",
    "\n",
    "<img src=\"img/traditional-stereo.png\" alt=\"traditional-stereo\" width=\"600\"/>\n",
    "\n",
    "<center>Source: <a href=\"https://cvgl.stanford.edu/teaching/cs231a_winter1415/lecture/lecture8_volumetric_stereo.pdf\">Stanford CS231A lecture 8</a></center>\n",
    "\n",
    "\n"
   ]
  },
  {
   "cell_type": "markdown",
   "id": "49ccc6d4",
   "metadata": {
    "slideshow": {
     "slide_type": "slide"
    }
   },
   "source": [
    "# Traditional Stereo - Correspondence Problem\n",
    "\n",
    "How to ensure pixels $p$ and $p'$ **correspond** to the same 3D point $P$?\n",
    "\n",
    "Easy for humans, difficult for computers.\n",
    "\n",
    "<img src=\"img/correspondence.png\" alt=\"correspondence\" width=\"1000\"/>\n",
    "\n",
    "<center>Source: <a href=\"https://srs.amsi.org.au/student-blog/what-is-dense-correspondence/\">SRS - What is Dense Correspondence?</a></center>\n",
    "\n",
    "\n"
   ]
  },
  {
   "cell_type": "markdown",
   "id": "b3ef60ac",
   "metadata": {
    "slideshow": {
     "slide_type": "slide"
    }
   },
   "source": [
    "# Solution: Active Stereo (Point)\n",
    "\n",
    "- Physically mark the object with an identifiable dot\n",
    "    - Replace one of the two cameras with a laser pointer!\n",
    "- Reconstruction\n",
    "    1. Span across the surface of the object, projecting a dot each time\n",
    "    2. Calculate coordinate of each dot using triangulation\n",
    "\n",
    "<img src=\"img/active-point.png\" alt=\"active-point\" width=\"600\"/>\n",
    "\n",
    "<center>Source: <a href=\"https://cvgl.stanford.edu/teaching/cs231a_winter1415/lecture/lecture8_volumetric_stereo.pdf\">Stanford CS231A lecture 8</a></center>\n",
    "\n",
    "\n"
   ]
  },
  {
   "cell_type": "markdown",
   "id": "6609509c",
   "metadata": {
    "slideshow": {
     "slide_type": "slide"
    }
   },
   "source": [
    "# Active Stereo (Line)\n",
    "\n",
    "- Extension of the Active Stereo Point method\n",
    "    - Project multiple dots in a series at once\n",
    "- Reconstruction\n",
    "    1. Scan across the surface of the object\n",
    "    2. Calculate coordinates of each line using triangulation\n",
    "\n",
    "<img src=\"img/active-line.png\" alt=\"active-line\" width=\"600\"/>\n",
    "\n",
    "<center>Source: <a href=\"https://cvgl.stanford.edu/teaching/cs231a_winter1415/lecture/lecture8_volumetric_stereo.pdf\">Stanford CS231A lecture 8</a></center>\n",
    "\n",
    "\n"
   ]
  },
  {
   "cell_type": "markdown",
   "id": "6c25e508",
   "metadata": {
    "slideshow": {
     "slide_type": "slide"
    }
   },
   "source": [
    "# Active Stereo (Line) - Example\n",
    "\n",
    "Laser Scanning                        | 3D Reconstruction\n",
    ":--------------------------------------------------:|:-------------------------:\n",
    "<img src=\"img/digitalmichelangelo.jpg\" alt=\"digitalmichelangelo\" width=\"500\"/> | <img src=\"img/david3d.jpg\" alt=\"david3d\" width=\"500\"/>\n",
    "\n",
    "Source: [The Digital Michaelangelo project](https://accademia.stanford.edu/mich/)\n"
   ]
  },
  {
   "cell_type": "markdown",
   "id": "b104b0e7",
   "metadata": {
    "slideshow": {
     "slide_type": "slide"
    }
   },
   "source": [
    "# Active Stereo (Pattern)\n",
    "\n",
    "- Extension of the Active Stereo Point method\n",
    "    - Project multiple dots/lines covering a wide area\n",
    "- Reconstruction\n",
    "    1. Calculate coordinates of each dot/line using triangulation\n",
    "    2. Generate mesh from point cloud\n",
    "\n",
    "<img src=\"img/active-pattern.png\" alt=\"active-pattern\" width=\"600\"/>\n",
    "\n",
    "<center>Source: <a href=\"https://cvgl.stanford.edu/teaching/cs231a_winter1415/lecture/lecture8_volumetric_stereo.pdf\">Stanford CS231A lecture 8</a></center>\n",
    "\n",
    "\n"
   ]
  },
  {
   "cell_type": "markdown",
   "id": "7c060940",
   "metadata": {
    "slideshow": {
     "slide_type": "slide"
    }
   },
   "source": [
    "# Active Stereo (Pattern) - Example\n",
    "\n",
    "- Microsoft Kinect for Xbox\n",
    "- Project pattern of infrared dots\n",
    "    - works well under many ambient light conditions\n",
    "\n",
    "<img src=\"img/kinect.png\" alt=\"kinect\" width=\"600\"/>\n",
    "\n",
    "<center>Source: <a href=\"https://www.mdpi.com/2220-9964/6/11/349\">A Post-Rectification Approach of Depth Images of Kinect v2 for 3D Reconstruction of Indoor Scenes</a></center>\n",
    "\n",
    "\n"
   ]
  }
 ],
 "metadata": {
  "celltoolbar": "Slideshow",
  "kernelspec": {
   "display_name": "Python 3 (ipykernel)",
   "language": "python",
   "name": "python3"
  },
  "language_info": {
   "codemirror_mode": {
    "name": "ipython",
    "version": 3
   },
   "file_extension": ".py",
   "mimetype": "text/x-python",
   "name": "python",
   "nbconvert_exporter": "python",
   "pygments_lexer": "ipython3",
   "version": "3.11.9"
  }
 },
 "nbformat": 4,
 "nbformat_minor": 5
}
