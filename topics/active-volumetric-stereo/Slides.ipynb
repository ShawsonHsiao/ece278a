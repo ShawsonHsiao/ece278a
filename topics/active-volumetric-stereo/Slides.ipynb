{
 "cells": [
  {
   "attachments": {},
   "cell_type": "markdown",
   "id": "76b67dce",
   "metadata": {
    "slideshow": {
     "slide_type": "slide"
    }
   },
   "source": [
    "# <center>Active and Volumetric Stereo</center>\n",
    "### <center>Maxwell Jung</center>\n",
    "\n",
    "Captured Image                                      | 3D Reconstruction\n",
    ":--------------------------------------------------:|:-------------------------:\n",
    "<img src=\"img/hand_fist_pattern.jpg\" alt=\"hand_fist_pattern\" width=\"500\"/> | <img src=\"img/hand_fist_polygon.gif\" alt=\"hand_fist_polygon\" width=\"500\"/>\n",
    "\n",
    "Source: [Rapid Shape Acquisition Using Color Structured Light and Multi-pass Dynamic Programming](https://grail.cs.washington.edu/projects/moscan/)"
   ]
  },
  {
   "attachments": {},
   "cell_type": "markdown",
   "id": "64c0b2b5",
   "metadata": {
    "slideshow": {
     "slide_type": "slide"
    }
   },
   "source": [
    "# Topics Covered\n",
    "\n",
    "1. Active Stereo\n",
    "    1. Point method\n",
    "    2. Line method\n",
    "    3. Pattern method\n",
    "2. Volumetric Stereo\n",
    "    1. Space Carving\n",
    "    2. Shadow Carving\n",
    "    3. Voxel Coloring\n"
   ]
  },
  {
   "cell_type": "markdown",
   "id": "dc7c97ab",
   "metadata": {
    "slideshow": {
     "slide_type": "slide"
    }
   },
   "source": [
    "# Examples\n",
    "\n",
    "Captured Image (line method)                        | 3D Reconstruction\n",
    ":--------------------------------------------------:|:-------------------------:\n",
    "<img src=\"img/digitalmichelangelo.jpg\" alt=\"digitalmichelangelo\" width=\"500\"/> | <img src=\"img/david3d.jpg\" alt=\"david3d\" width=\"500\"/>x\n",
    "\n",
    "Source: [The Digital Michaelangelo project](https://accademia.stanford.edu/mich/)\n"
   ]
  },
  {
   "cell_type": "markdown",
   "id": "e9af1f04",
   "metadata": {
    "slideshow": {
     "slide_type": "subslide"
    }
   },
   "source": [
    "# Examples - cont.\n",
    "\n",
    "Captured Image (pattern method)                       | 3D Reconstruction\n",
    ":--------------------------------------------------:|:-------------------------:\n",
    "<img src=\"img/speckle-a.png\" alt=\"speckle-a\" width=\"500\"/> | <img src=\"img/speckle-b.png\" alt=\"speckle-b\" width=\"500\"/>\n",
    "\n",
    "Source: [Rapid Shape Acquisition Using Color Structured Light and Multi-pass Dynamic Programming](https://grail.cs.washington.edu/projects/moscan/)"
   ]
  },
  {
   "cell_type": "markdown",
   "id": "b0b6e9c2",
   "metadata": {
    "slideshow": {
     "slide_type": "subslide"
    }
   },
   "source": [
    "# Examples - cont.\n",
    "\n",
    "Captured Images (Space Carving)                       | 3D Reconstruction\n",
    ":--------------------------------------------------:|:-------------------------:\n",
    "<img src=\"img/space-carving-hands.jpeg\" alt=\"space-carving-hands\" width=\"500\"/> | <img src=\"img/space-carving-hands-result.png\" alt=\"space-carving-hands-result\" width=\"500\"/>\n",
    "\n",
    "Source: [A Theory of Shape by Space Carving](https://www.cs.toronto.edu/~kyros/pubs/00.ijcv.carve.pdf)"
   ]
  },
  {
   "cell_type": "markdown",
   "id": "49ccc6d4",
   "metadata": {},
   "source": [
    "# Active Stereo - Point"
   ]
  }
 ],
 "metadata": {
  "celltoolbar": "Slideshow",
  "kernelspec": {
   "display_name": "Python 3 (ipykernel)",
   "language": "python",
   "name": "python3"
  },
  "language_info": {
   "codemirror_mode": {
    "name": "ipython",
    "version": 3
   },
   "file_extension": ".py",
   "mimetype": "text/x-python",
   "name": "python",
   "nbconvert_exporter": "python",
   "pygments_lexer": "ipython3",
   "version": "3.11.9"
  }
 },
 "nbformat": 4,
 "nbformat_minor": 5
}
